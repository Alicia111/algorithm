{
 "cells": [
  {
   "cell_type": "markdown",
   "id": "c7a1d842-6eb0-4348-a261-c5c13ce42a4e",
   "metadata": {},
   "source": [
    "# 1. 什麼是複雜度 ＆ 我知道這個又能幹嘛\n",
    "\n",
    "### 由於程式碼不是填空題，所以一個問題通常有很多種解法以及一個理論上的最佳解，而最佳解通常對電腦的負擔最低。\n",
    "\n",
    "### 而複雜度簡單來說就是就是執行一個程式所需要的資源，~~現在對看到這篇的人來說唯一用處就是讓你的 leetcode 成績好看一點~~。\n",
    "\n",
    "#### <font color='#dc0051'>註：以下內容會與演算法跟資料結構產生極大的關聯。 </font>\n",
    "\n",
    "舉個栗子，leetcode第一題的兩數和："
   ]
  },
  {
   "cell_type": "code",
   "execution_count": null,
   "id": "daec719a-71a8-4c76-9b02-964dc6cf5a19",
   "metadata": {},
   "outputs": [],
   "source": [
    "### 雙迴圈寫法\n",
    "nums=[2,11,7,18]\n",
    "target=9\n",
    "List=[]\n",
    "for i in range(len(nums)):\n",
    "    for j in range(i+1,len(nums)):\n",
    "        if nums[i] + nums[j] == target:\n",
    "            List.append(i)\n",
    "            List.append(j)\n",
    "            break\n",
    "print(List)"
   ]
  },
  {
   "cell_type": "code",
   "execution_count": null,
   "id": "6fcddbd4-8a83-436d-ac2b-249308058728",
   "metadata": {},
   "outputs": [],
   "source": [
    "### 字典寫法\n",
    "nums=[2,11,7,18]\n",
    "target=9\n",
    "List=[]\n",
    "\n",
    "check={}\n",
    "\n",
    "for i in range(len(nums)):\n",
    "    found = target-nums[i]\n",
    "    if found in check:\n",
    "        List.append(check[found])\n",
    "        List.append(i)\n",
    "        break\n",
    "    else:\n",
    "        check[nums[i]]=i\n",
    "        \n",
    "print(List)"
   ]
  },
  {
   "cell_type": "markdown",
   "id": "08ceddcb-a7b0-41e0-a764-c2973ec1bdf5",
   "metadata": {},
   "source": [
    "# 2. 時間複雜度 "
   ]
  },
  {
   "cell_type": "markdown",
   "id": "42486230-f4ac-4b05-ba56-2d98c44bdb9d",
   "metadata": {},
   "source": [
    "## 2.1 時間複雜度是什麼\n",
    "\n",
    "### wiki上是這樣寫的，時間複雜度是一個函式，定義該演算法的執行時間。\n",
    "### 所以顧名思義就是執行一個程式所需要的時間，我現在完全搞懂了， <font color='red'> 完全沒搞懂.jpg</font>。\n",
    "\n",
    "拿出另外一個栗子：  \n",
    "假設你今天裝好了一台 Ryzen 7 9800X3D 跟 RTX 5090 加 DDR5 64GB記憶體的電腦，你覺得跟你手上一開機就把空間變成直升機停機坪一樣的文書機哪個速度比較快。\n",
    "\n",
    "先別難過，前人已經幫你定義好了一個方法，直接拿來用就好了。"
   ]
  },
  {
   "cell_type": "code",
   "execution_count": null,
   "id": "10201378-7da3-4b1d-98c5-cd09dd9396d3",
   "metadata": {},
   "outputs": [],
   "source": [
    "### 來確認一下吧\n",
    "\n",
    "def Func1(nums:int):\n",
    "    count=0\n",
    "    for i in range(nums):\n",
    "        for j in range(nums):\n",
    "            count+=1\n",
    "    return count\n",
    "\n",
    "def Func2(nums:int):\n",
    "    count=0\n",
    "    for i in range(0,nums,2):\n",
    "        count+=1\n",
    "\n",
    "    return count\n",
    "\n",
    "def Func3(nums:int):\n",
    "    count=0\n",
    "    for i in range(nums):\n",
    "        count+=1\n",
    "    return count\n",
    "\n",
    "result1=Func1(10)\n",
    "result2=Func2(10)\n",
    "result3=Func3(10)\n",
    "\n",
    "print('下述三條 for 循環了幾次')\n",
    "\n",
    "ans1 = int(input('Func1執行次數：'))\n",
    "print(f'{\"正確\" if ans1==result1 else \"錯誤\"}')\n",
    "\n",
    "ans2 = int(input('Func2執行次數：'))\n",
    "print(f'{\"正確\" if ans2==result2 else \"錯誤\"}')\n",
    "\n",
    "ans3 = int(input('Func3執行次數：'))\n",
    "print(f'{\"正確\" if ans3==result3 else \"錯誤\"}')\n",
    "    \n"
   ]
  },
  {
   "cell_type": "markdown",
   "id": "1a8ea2b6-1f40-4645-9c7c-f8b2e5561046",
   "metadata": {},
   "source": [
    "## 2.2 Big O 表示法\n",
    "### 前人們將時間複雜度的函式定義為 O(y) ，其中y為次數，常見有：N、N<sup>2</sup>、logN 等。\n",
    "\n",
    "### 相信從上面的程式你大概可以看出來：\n",
    "### &emsp;Func1執行 10x10 / N * N = N<sup>2</sup> 次\n",
    "### &emsp;Func2執行 10÷2次 /  Ｎ ÷ 2次\n",
    "### &emsp;Func3執行 10次 / N 次\n",
    "\n",
    "### 照理來說 Func2 跟 Func3 的時間複雜度為 O(N/2) 跟 O(N) 對吧，<font color='red'>那你又錯了</font>。\n",
    "### 由於 Big O 只是讓你粗略估計次數而已，故有有以下幾點需要注意：\n",
    "### &emsp; 1. 只留最高項的項數\n",
    "### &emsp;2. 將係數簡化為1\n",
    "#### 故實際執行 O(N/2) 次需簡化為 <bold>O(N)</bold>； O(27N<sup>8</sup>+ 12N<sup>4</sup>+ 28) 簡化為 O(N<sup>8</sup>)；O(100) 次需簡化為 O(1)。\n",
    "\n",
    "\n",
    "這時候你大概會有一個問題就是：我的for迴圈裡面有break啊這樣還算我 O(N) 喔，這群科學家怎麼判的。先別把你的編譯器刪了，因為 Big O 的原理是判斷你的程式最多要執行幾次才算，例如說你要的目標在迴圈最後一個的話你寫了break也派不上用場。\n",
    "\n"
   ]
  },
  {
   "cell_type": "markdown",
   "id": "fa21ae6b-7331-4dd3-b663-41fbd8801913",
   "metadata": {},
   "source": [
    "## 2.3 常見的時間複雜度\n",
    "\n",
    "### 相信修過資料結構的人接下來不是很熟悉就是很痛苦。"
   ]
  },
  {
   "cell_type": "markdown",
   "id": "5f52d4e0-8bb8-47dc-89ea-bf6c5af3b2c7",
   "metadata": {},
   "source": [
    "### 2.3-1 O(1)\n",
    "\n",
    "#### O(1) 基本上是最簡單易懂的複雜度了，所以基本上不需要特殊的演算法，<font color='red'>只要有看到明確的數字就是 O(1) 。</font>\n",
    "#### 四則運算、賦予變數值、取特定list項（ list[2] )\n",
    "\n",
    "#### ~~當然除非是要考你不然基本遇不到 O(1) 的程式~~"
   ]
  },
  {
   "cell_type": "code",
   "execution_count": null,
   "id": "fa97c799-23f4-4653-94a5-59e350316ecc",
   "metadata": {},
   "outputs": [],
   "source": [
    "### O(1)的程式碼\n",
    "def o1(nums:int):\n",
    "    list = []\n",
    "    for i in range(327):\n",
    "        list.append(i)\n",
    "    print(list[41])\n",
    "o1(input('O(1)測試：'))"
   ]
  },
  {
   "cell_type": "markdown",
   "id": "27719ccd-b5f0-40e0-a850-85c22fad8828",
   "metadata": {
    "collapsed": true,
    "jupyter": {
     "outputs_hidden": true
    }
   },
   "source": [
    "### 2.3-2 O (N)\n",
    "#### O(N) 顧名思義就是根據變數的值執行次數，<b>一定要有一個從 1 到 N 的遍歷</b>\n",
    "#### For 迴圈、list.index() 都算是執行N次\n",
    "\n",
    "#### 大部分你在學期間遇到的程式都是 Ｏ(N)"
   ]
  },
  {
   "cell_type": "code",
   "execution_count": null,
   "id": "6ecaadb2-3657-4ee6-a33e-c70cb9bbace4",
   "metadata": {
    "scrolled": true
   },
   "outputs": [],
   "source": [
    "### O(N) 的程式碼\n",
    "def oN(nums,target):\n",
    "    list=[]\n",
    "    times=0\n",
    "    for i in range(nums):\n",
    "        list.append(i)\n",
    "        times+=\n",
    "    while target>nums:\n",
    "        target=int(input((f'請重新輸入:')))\n",
    "                \n",
    "    print(list.index(target))\n",
    "\n",
    "num=int(input(f'輸入範圍：'))\n",
    "target=int(input(f'輸入查找目標'))\n",
    "oN(num,target)\n"
   ]
  },
  {
   "cell_type": "markdown",
   "id": "b049a5e3-513f-4645-87ee-46724b3ffbd9",
   "metadata": {},
   "source": [
    "### 2.3-3 O(N<sup>n</sup>) ，n表常數\n",
    "\n",
    "#### 基於O(N) 的邏輯，加上更多重複遍歷\n",
    "\n",
    "~~如果你大部分都只能寫出O(N<sup>N</sup>)的程式的話，那你還是別寫了~~"
   ]
  },
  {
   "cell_type": "code",
   "execution_count": null,
   "id": "3e388ea6-f1b4-44c0-ac03-8b9bcd3d5a37",
   "metadata": {},
   "outputs": [],
   "source": [
    "### O(N^N)的程式碼\n",
    "\n",
    "def complex(nums:int):\n",
    "    times=0\n",
    "    check=nums\n",
    "    while check>0:\n",
    "        for i in range(nums):\n",
    "            times+=1\n",
    "        check-=1\n",
    "        \n",
    "    result=f'執行次數:{times}次'\n",
    "    return result\n",
    "complex(int(input('測試')))"
   ]
  },
  {
   "cell_type": "markdown",
   "id": "4cb24031-90c0-47e4-aaa9-c15b8d780d32",
   "metadata": {},
   "source": [
    "#### 相信基於上述亂七八糟的程式碼後你已經瞭解如何讓你的程式跑快一點了\n",
    "#### 當然，如果你很討厭某個人或是你的分數是基於程式碼行數的話你也可以寫個需要循環19.8億次的程式噁心一下他。"
   ]
  },
  {
   "cell_type": "markdown",
   "id": "d4146136-5236-4f09-8762-34e916714009",
   "metadata": {},
   "source": [
    "# 3. 空間複雜度"
   ]
  },
  {
   "cell_type": "markdown",
   "id": "5cc1335b-f4e9-4fee-a30c-9197c7f8aafd",
   "metadata": {},
   "source": [
    "## 3.1 空間複雜度又是啥\n",
    "\n",
    "### 首先，先感謝一下現代科技的進步以及傳奇廚神Jason，基本上空間複雜度這個東西基本上沒什麼人在乎。\n",
    "### ~~有問題的話絕對是你記憶體插不夠多，16gb不夠就插32gb~~。\n",
    "\n",
    "### 空間相對於時間來說就特別簡單了，就是你程式執行時會產生多少額外變數，這在身爲時間服雜度大師的你眼裡簡直就是一塊小蛋糕。\n",
    "#### 問題來了：為什麼是額外變數？\n",
    "#### 答案也很簡單，因為程式碼（變數、函數⋯⋯）所需要的memory在你按下執行的當下已經決定好了，所以問題就只有你執行中多出來變數了。\n",
    "\n",
    "### 空間複雜度一樣用 Big O 表示法。"
   ]
  },
  {
   "cell_type": "markdown",
   "id": "48179960-8739-44ef-bf9d-b81801dee8d4",
   "metadata": {},
   "source": [
    "### 3.2 常見的空間複雜度"
   ]
  },
  {
   "cell_type": "code",
   "execution_count": null,
   "id": "81c36023-f251-453f-b4a2-cb343819f42e",
   "metadata": {
    "scrolled": true
   },
   "outputs": [],
   "source": [
    "### Case 1\n",
    "\n",
    "def complex(n:int):\n",
    "    total=0\n",
    "    for i in range(n):\n",
    "        total += n\n",
    "        print (id(i))\n",
    "    return total\n",
    "\n",
    "complex(10)"
   ]
  },
  {
   "cell_type": "markdown",
   "id": "7f05f7cf-8185-46c9-bb10-0ebae7bbaddb",
   "metadata": {},
   "source": [
    "#### 上述程式中，每次迴圈都會多出一個i，故空間複雜度為Ｏ（1）"
   ]
  },
  {
   "cell_type": "markdown",
   "id": "c4f9dc08-7197-4746-8113-30b27b6679ba",
   "metadata": {},
   "source": [
    "### 恭喜，你現在已經是個複雜度磚家了，該去Leetcode上面刷題了。"
   ]
  }
 ],
 "metadata": {
  "kernelspec": {
   "display_name": "Python 3 (ipykernel)",
   "language": "python",
   "name": "python3"
  },
  "language_info": {
   "codemirror_mode": {
    "name": "ipython",
    "version": 3
   },
   "file_extension": ".py",
   "mimetype": "text/x-python",
   "name": "python",
   "nbconvert_exporter": "python",
   "pygments_lexer": "ipython3",
   "version": "3.11.0"
  }
 },
 "nbformat": 4,
 "nbformat_minor": 5
}
